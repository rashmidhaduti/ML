{
 "cells": [
  {
   "cell_type": "code",
   "execution_count": 1,
   "metadata": {},
   "outputs": [
    {
     "name": "stdout",
     "output_type": "stream",
     "text": [
      "Collecting bayespy\n",
      "  Downloading bayespy-0.5.22.tar.gz (490 kB)\n",
      "Requirement already satisfied: numpy>=1.10.0 in c:\\users\\rashmi dhaduti\\anaconda3\\lib\\site-packages (from bayespy) (1.19.2)\n",
      "Requirement already satisfied: scipy>=0.13.0 in c:\\users\\rashmi dhaduti\\anaconda3\\lib\\site-packages (from bayespy) (1.5.2)\n",
      "Requirement already satisfied: h5py in c:\\users\\rashmi dhaduti\\anaconda3\\lib\\site-packages (from bayespy) (2.10.0)\n",
      "Requirement already satisfied: six in c:\\users\\rashmi dhaduti\\anaconda3\\lib\\site-packages (from h5py->bayespy) (1.15.0)\n",
      "Building wheels for collected packages: bayespy\n",
      "  Building wheel for bayespy (setup.py): started\n",
      "  Building wheel for bayespy (setup.py): finished with status 'done'\n",
      "  Created wheel for bayespy: filename=bayespy-0.5.22-py3-none-any.whl size=379444 sha256=27f78dad179aeec67113ef988dd9b88bd9c1b6067ca51a4b9121f91a62b67559\n",
      "  Stored in directory: c:\\users\\rashmi dhaduti\\appdata\\local\\pip\\cache\\wheels\\f9\\d0\\2b\\8812b03e4882c5c675d6e122a2efd111f268318632a7c8c0ef\n",
      "Successfully built bayespy\n",
      "Installing collected packages: bayespy\n",
      "Successfully installed bayespy-0.5.22\n"
     ]
    }
   ],
   "source": [
    "!pip install bayespy"
   ]
  },
  {
   "cell_type": "code",
   "execution_count": 2,
   "metadata": {},
   "outputs": [
    {
     "name": "stdout",
     "output_type": "stream",
     "text": [
      "Requirement already satisfied: colorama in c:\\users\\rashmi dhaduti\\anaconda3\\lib\\site-packages (0.4.4)\n",
      "Requirement already satisfied: colorama in c:\\users\\rashmi dhaduti\\anaconda3\\lib\\site-packages (0.4.4)\n"
     ]
    }
   ],
   "source": [
    "import bayespy as bp\n",
    "import numpy as np\n",
    "import csv\n",
    "!pip3 install colorama\n",
    "!pip3 install colorama\n",
    "from colorama import init\n",
    "from colorama import Fore, Back, Style\n",
    "init()\n",
    "\n",
    "# Define Parameter Enum values\n",
    "# Age\n",
    "ageEnum = {'SuperSeniorCitizen': 0, 'SeniorCitizen': 1,\n",
    "           'MiddleAged': 2, 'Youth': 3, 'Teen': 4}\n",
    "# Gender\n",
    "genderEnum = {'Male': 0, 'Female': 1}\n",
    "# FamilyHistory\n",
    "familyHistoryEnum = {'Yes': 0, 'No': 1}\n",
    "# Diet(Calorie Intake)\n",
    "dietEnum = {'High': 0, 'Medium': 1, 'Low': 2}\n",
    "# LifeStyle\n",
    "lifeStyleEnum = {'Athlete': 0, 'Active': 1, 'Moderate': 2, 'Sedetary': 3}\n",
    "# Cholesterol\n",
    "cholesterolEnum = {'High': 0, 'BorderLine': 1, 'Normal': 2}\n",
    "# HeartDisease\n",
    "heartDiseaseEnum = {'Yes': 0, 'No': 1}"
   ]
  },
  {
   "cell_type": "code",
   "execution_count": 3,
   "metadata": {},
   "outputs": [],
   "source": [
    "import pandas as pd"
   ]
  },
  {
   "cell_type": "code",
   "execution_count": 6,
   "metadata": {},
   "outputs": [],
   "source": [
    "data = pd.read_csv('heartdisease.csv')"
   ]
  },
  {
   "cell_type": "code",
   "execution_count": 7,
   "metadata": {},
   "outputs": [],
   "source": [
    "data =np.array(data, dtype='int8')\n",
    "N = len(data)"
   ]
  },
  {
   "cell_type": "code",
   "execution_count": 8,
   "metadata": {},
   "outputs": [],
   "source": [
    "p_age = bp.nodes.Dirichlet(1.0*np.ones(5))\n",
    "age = bp.nodes.Categorical(p_age, plates=(N,))\n",
    "age.observe(data[:, 0])\n",
    "\n",
    "p_gender = bp.nodes.Dirichlet(1.0*np.ones(2))\n",
    "gender = bp.nodes.Categorical(p_gender, plates=(N,))\n",
    "gender.observe(data[:, 1])\n",
    "\n",
    "p_familyhistory = bp.nodes.Dirichlet(1.0*np.ones(2))\n",
    "familyhistory = bp.nodes.Categorical(p_familyhistory, plates=(N,))\n",
    "familyhistory.observe(data[:, 2])\n",
    "\n",
    "p_diet = bp.nodes.Dirichlet(1.0*np.ones(3))\n",
    "diet = bp.nodes.Categorical(p_diet, plates=(N,))\n",
    "diet.observe(data[:, 3])\n",
    "\n",
    "p_lifestyle = bp.nodes.Dirichlet(1.0*np.ones(4))\n",
    "lifestyle = bp.nodes.Categorical(p_lifestyle, plates=(N,))\n",
    "lifestyle.observe(data[:, 4])\n",
    "\n",
    "p_cholesterol = bp.nodes.Dirichlet(1.0*np.ones(3))\n",
    "cholesterol = bp.nodes.Categorical(p_cholesterol, plates=(N,))\n",
    "cholesterol.observe(data[:, 5])"
   ]
  },
  {
   "cell_type": "code",
   "execution_count": 9,
   "metadata": {},
   "outputs": [],
   "source": [
    "p_heartdisease = bp.nodes.Dirichlet(np.ones(2), plates=(5, 2, 2, 3, 4, 3))\n",
    "heartdisease = bp.nodes.MultiMixture(\n",
    "    [age, gender, familyhistory, diet, lifestyle, cholesterol], bp.nodes.Categorical, p_heartdisease)\n",
    "heartdisease.observe(data[:, 6])\n",
    "p_heartdisease.update()"
   ]
  },
  {
   "cell_type": "code",
   "execution_count": null,
   "metadata": {},
   "outputs": [
    {
     "name": "stdout",
     "output_type": "stream",
     "text": [
      "\n",
      "\n",
      "Enter Age: {'SuperSeniorCitizen': 0, 'SeniorCitizen': 1, 'MiddleAged': 2, 'Youth': 3, 'Teen': 4}1\n",
      "Enter Gender: {'Male': 0, 'Female': 1}1\n",
      "Enter FamilyHistory: {'Yes': 0, 'No': 1}0\n",
      "Enter dietEnum: {'High': 0, 'Medium': 1, 'Low': 2}1\n",
      "Enter LifeStyle: {'Athlete': 0, 'Active': 1, 'Moderate': 2, 'Sedetary': 3}0\n",
      "Enter Cholesterol: {'High': 0, 'BorderLine': 1, 'Normal': 2}1\n",
      "Probability(HeartDisease) = 0.5\n",
      "\n",
      "\n"
     ]
    }
   ],
   "source": [
    "m = 0\n",
    "while m == 0:\n",
    "    print(\"\\n\")\n",
    "    res = bp.nodes.MultiMixture([int(input('Enter Age: ' + str(ageEnum))), int(input('Enter Gender: ' + str(genderEnum))), int(input('Enter FamilyHistory: ' + str(familyHistoryEnum))), int(input('Enter dietEnum: ' + str(\n",
    "        dietEnum))), int(input('Enter LifeStyle: ' + str(lifeStyleEnum))), int(input('Enter Cholesterol: ' + str(cholesterolEnum)))], bp.nodes.Categorical, p_heartdisease).get_moments()[0][heartDiseaseEnum['Yes']]\n",
    "    print(\"Probability(HeartDisease) = \" + str(res))"
   ]
  },
  {
   "cell_type": "code",
   "execution_count": null,
   "metadata": {},
   "outputs": [],
   "source": []
  }
 ],
 "metadata": {
  "kernelspec": {
   "display_name": "Python 3",
   "language": "python",
   "name": "python3"
  },
  "language_info": {
   "codemirror_mode": {
    "name": "ipython",
    "version": 3
   },
   "file_extension": ".py",
   "mimetype": "text/x-python",
   "name": "python",
   "nbconvert_exporter": "python",
   "pygments_lexer": "ipython3",
   "version": "3.8.5"
  }
 },
 "nbformat": 4,
 "nbformat_minor": 4
}
